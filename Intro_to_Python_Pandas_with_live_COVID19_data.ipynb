{
  "nbformat": 4,
  "nbformat_minor": 0,
  "metadata": {
    "kernelspec": {
      "display_name": "Python 3",
      "language": "python",
      "name": "python3"
    },
    "language_info": {
      "codemirror_mode": {
        "name": "ipython",
        "version": 3
      },
      "file_extension": ".py",
      "mimetype": "text/x-python",
      "name": "python",
      "nbconvert_exporter": "python",
      "pygments_lexer": "ipython3",
      "version": "3.8.1"
    },
    "colab": {
      "name": "Intro to Python Pandas with live COVID19 data.ipynb",
      "provenance": [],
      "collapsed_sections": [],
      "include_colab_link": true
    }
  },
  "cells": [
    {
      "cell_type": "markdown",
      "metadata": {
        "id": "view-in-github",
        "colab_type": "text"
      },
      "source": [
        "<a href=\"https://colab.research.google.com/github/sirishkumar/100-Days-Of-ML-Code/blob/master/Intro_to_Python_Pandas_with_live_COVID19_data.ipynb\" target=\"_parent\"><img src=\"https://colab.research.google.com/assets/colab-badge.svg\" alt=\"Open In Colab\"/></a>"
      ]
    },
    {
      "cell_type": "markdown",
      "metadata": {
        "id": "51eeqGQsWP11",
        "colab_type": "text"
      },
      "source": [
        " \n",
        "<div style=\"text-align: center;\">\n",
        "    <img src=\"https://cdn.pixabay.com/photo/2020/03/14/12/56/corona-4930541_1280.jpg\" style=\"max-width: 600px; width:100%;\" />\n",
        "</div>\n",
        "\n",
        "# Intro to Python Pandas Data Analysis with live COVID‐19 data\n",
        "\n",
        "This is a Python Jupyter notebook running in Google Colab. Click on Open in Playground above and login with a Google account to get started.<br>\n",
        "To run the code, click on each of the [ ] to run the Python cells below in order (they depend on one another, so don't miss any)."
      ]
    },
    {
      "cell_type": "markdown",
      "metadata": {
        "id": "2PT_5fdCWP1-",
        "colab_type": "text"
      },
      "source": [
        "## Step 1: Reading Data\n",
        "\n",
        "We will load live COVID-19 data from the [GitHub data repository](https://github.com/CSSEGISandData/COVID-19) for the 2019 Novel Coronavirus Visual Dashboard by the Johns Hopkins University Center for Systems Science and Engineering (JHU CSSE). As the data changes, just load the data again to keep it current. The data is in 3 files for: confirmed cases, deaths, and recovered statistics. "
      ]
    },
    {
      "cell_type": "code",
      "metadata": {
        "id": "aoiqHj84WP1_",
        "colab_type": "code",
        "colab": {}
      },
      "source": [
        "import numpy as np\n",
        "import pandas as pd\n",
        "import matplotlib.pyplot as plt\n",
        "import plotly.express as px\n",
        "%matplotlib inline\n",
        "\n",
        "COVID_CONFIRMED_URL = 'https://raw.githubusercontent.com/CSSEGISandData/COVID-19/master/csse_covid_19_data/csse_covid_19_time_series/time_series_covid19_confirmed_global.csv'\n",
        "\n",
        "covid_confirmed = pd.read_csv(COVID_CONFIRMED_URL)\n",
        "\n",
        "covid_confirmed.head()"
      ],
      "execution_count": 0,
      "outputs": []
    },
    {
      "cell_type": "code",
      "metadata": {
        "id": "kwfw6YjCWP2F",
        "colab_type": "code",
        "colab": {}
      },
      "source": [
        "COVID_DEATHS_URL = 'https://raw.githubusercontent.com/CSSEGISandData/COVID-19/master/csse_covid_19_data/csse_covid_19_time_series/time_series_covid19_deaths_global.csv'\n",
        "covid_deaths = pd.read_csv(COVID_DEATHS_URL)\n",
        "\n",
        "covid_deaths.head()"
      ],
      "execution_count": 0,
      "outputs": []
    },
    {
      "cell_type": "code",
      "metadata": {
        "id": "DT5qG1MaWP2J",
        "colab_type": "code",
        "colab": {}
      },
      "source": [
        "COVID_RECOVERED_URL = 'https://raw.githubusercontent.com/CSSEGISandData/COVID-19/master/csse_covid_19_data/csse_covid_19_time_series/time_series_covid19_recovered_global.csv'\n",
        "\n",
        "covid_recovered = pd.read_csv(COVID_RECOVERED_URL)\n",
        "\n",
        "covid_recovered.head()"
      ],
      "execution_count": 0,
      "outputs": []
    },
    {
      "cell_type": "markdown",
      "metadata": {
        "id": "-7gMU7GZWP2Q",
        "colab_type": "text"
      },
      "source": [
        "## Step 2: Cleaning the Data\n",
        "\n",
        "The following code replaces the column name Country/Region with just Country and Province/State with State to make it easier to pull out columns using the . operator.  The Province/State column had a bunch of NaN's in it which is how Python marks missing data. We can replace those with blanks. "
      ]
    },
    {
      "cell_type": "code",
      "metadata": {
        "id": "LmBHC0iPWP2S",
        "colab_type": "code",
        "colab": {}
      },
      "source": [
        "covid_confirmed.rename(columns={'Country/Region':'Country'}, inplace=True)\n",
        "covid_deaths.rename(columns={'Country/Region':'Country'}, inplace=True)\n",
        "covid_recovered.rename(columns={'Country/Region':'Country'}, inplace=True)\n",
        "covid_confirmed.rename(columns={'Province/State':'State'}, inplace=True)\n",
        "covid_deaths.rename(columns={'Province/State':'State'}, inplace=True)\n",
        "covid_recovered.rename(columns={'Province/State':'State'}, inplace=True)\n",
        "covid_confirmed.head()\n"
      ],
      "execution_count": 0,
      "outputs": []
    },
    {
      "cell_type": "code",
      "metadata": {
        "id": "s-cUiFSCWP2W",
        "colab_type": "code",
        "colab": {}
      },
      "source": [
        "covid_confirmed[['State']] = covid_confirmed[['State']].fillna('')\n",
        "covid_confirmed.fillna(0, inplace=True)\n",
        "\n",
        "covid_deaths[['State']] = covid_deaths[['State']].fillna('')\n",
        "covid_deaths.fillna(0, inplace=True)\n",
        "\n",
        "covid_recovered[['State']] = covid_recovered[['State']].fillna('')\n",
        "covid_recovered.fillna(0, inplace=True)\n",
        "covid_deaths.head()"
      ],
      "execution_count": 0,
      "outputs": []
    },
    {
      "cell_type": "markdown",
      "metadata": {
        "id": "9RnZUdwY1VVt",
        "colab_type": "text"
      },
      "source": [
        "## 3. Data Access "
      ]
    },
    {
      "cell_type": "markdown",
      "metadata": {
        "id": "8KNIANfH1gma",
        "colab_type": "text"
      },
      "source": [
        "You can pull out a certain column with .columname (if it's one word) or ['column name'] for multiword columns from the dataframe. And you can pull out a certain row using ==. For example, here we've pulled out the row where the country equals China."
      ]
    },
    {
      "cell_type": "code",
      "metadata": {
        "id": "WLUt0myjcsHe",
        "colab_type": "code",
        "colab": {}
      },
      "source": [
        "covid_confirmed.Country"
      ],
      "execution_count": 0,
      "outputs": []
    },
    {
      "cell_type": "code",
      "metadata": {
        "id": "wTQVWU93xstY",
        "colab_type": "code",
        "colab": {}
      },
      "source": [
        "covid_confirmed[covid_confirmed.Country == 'China']"
      ],
      "execution_count": 0,
      "outputs": []
    },
    {
      "cell_type": "markdown",
      "metadata": {
        "id": "Mt1jnVgm16Vt",
        "colab_type": "text"
      },
      "source": [
        "<font color=red>Now, you try. Pull out the data for the US.</red>"
      ]
    },
    {
      "cell_type": "code",
      "metadata": {
        "id": "D0l2MTHq2Cl-",
        "colab_type": "code",
        "colab": {}
      },
      "source": [
        "\n"
      ],
      "execution_count": 0,
      "outputs": []
    },
    {
      "cell_type": "markdown",
      "metadata": {
        "id": "LalXZF6V36O5",
        "colab_type": "text"
      },
      "source": [
        "Let's add up the total cases in Chinese states using the sum() function."
      ]
    },
    {
      "cell_type": "code",
      "metadata": {
        "id": "7auBBh4S4CSJ",
        "colab_type": "code",
        "colab": {}
      },
      "source": [
        "covid_confirmed[covid_confirmed.Country == 'China'].sum()\n"
      ],
      "execution_count": 0,
      "outputs": []
    },
    {
      "cell_type": "markdown",
      "metadata": {
        "id": "G5nglz-651Lb",
        "colab_type": "text"
      },
      "source": [
        "We can calculate all the sums and group them by country with the following code which also shows the results for 1 date. <br>\n",
        "<font color=red>Change the variable yesterday to yesterday's date.</font>"
      ]
    },
    {
      "cell_type": "code",
      "metadata": {
        "id": "CNtcQWuy4cj0",
        "colab_type": "code",
        "colab": {}
      },
      "source": [
        "yesterday = '3/26/20'\n",
        "confirmed_by_country = covid_confirmed.groupby('Country').sum()\n",
        "confirmed_yesterday_by_country = confirmed_by_country[yesterday]\n",
        "confirmed_yesterday_by_country\n",
        "\n",
        "\n"
      ],
      "execution_count": 0,
      "outputs": []
    },
    {
      "cell_type": "markdown",
      "metadata": {
        "id": "L0nHGSicdqYo",
        "colab_type": "text"
      },
      "source": [
        "<font color=red>Do the same (compute the sums using groupby) for the covid_deaths data and save it in the variable deaths_yesterday_by_country.</font> "
      ]
    },
    {
      "cell_type": "code",
      "metadata": {
        "id": "joKdZpcSeL-k",
        "colab_type": "code",
        "colab": {}
      },
      "source": [
        ""
      ],
      "execution_count": 0,
      "outputs": []
    },
    {
      "cell_type": "markdown",
      "metadata": {
        "id": "y9b1o5X85WO8",
        "colab_type": "text"
      },
      "source": [
        "Here are the top 5 countries with the most cases. \n",
        "<font color=red>Change it to yesterday's date and to show the top 10.</font>"
      ]
    },
    {
      "cell_type": "code",
      "metadata": {
        "id": "dC2jLGZbU727",
        "colab_type": "code",
        "colab": {}
      },
      "source": [
        "yesterday = '3/26/20'\n",
        "confirmed_yesterday_by_country = confirmed_by_country[yesterday]\n",
        "confirmed_yesterday_by_country.sort_values().tail(5)\n",
        "\n"
      ],
      "execution_count": 0,
      "outputs": []
    },
    {
      "cell_type": "markdown",
      "metadata": {
        "id": "CdJDarL2aSdW",
        "colab_type": "text"
      },
      "source": [
        "We can make a bar plot by country. <font color=red>Change the bar plot to show 20 countries with the most cases</font>."
      ]
    },
    {
      "cell_type": "code",
      "metadata": {
        "id": "WQsn0hmGac0q",
        "colab_type": "code",
        "outputId": "d3d97e27-88d8-4f9a-83fb-8d39a551d5d7",
        "colab": {
          "base_uri": "https://localhost:8080/",
          "height": 349
        }
      },
      "source": [
        "top_countries = confirmed_yesterday_by_country.sort_values().tail(5)\n",
        "top_countries.plot.bar(title=\"Top Countries with Confirmed Cases on \" +  yesterday)"
      ],
      "execution_count": 0,
      "outputs": [
        {
          "output_type": "execute_result",
          "data": {
            "text/plain": [
              "<matplotlib.axes._subplots.AxesSubplot at 0x7effc648bf60>"
            ]
          },
          "metadata": {
            "tags": []
          },
          "execution_count": 19
        },
        {
          "output_type": "display_data",
          "data": {
            "image/png": "[encoded data removed]",
            "text/plain": [
              "<Figure size 432x288 with 1 Axes>"
            ]
          },
          "metadata": {
            "tags": []
          }
        }
      ]
    },
    {
      "cell_type": "markdown",
      "metadata": {
        "id": "fwKspvKZee8L",
        "colab_type": "text"
      },
      "source": [
        "<font color=red>Compute the mortality rate by dividing deaths_yesterday_by_country by confirmed_yesterday_by_country and multiplying by 100. Save it in a variable. Then sort and use tail like above and create a bar plot comparing the mortality rates in the top 20 countries. Note that the mortality rate is only for people that get the virus, not for the whole population.</font>"
      ]
    },
    {
      "cell_type": "code",
      "metadata": {
        "id": "upmmydFWe_eQ",
        "colab_type": "code",
        "colab": {}
      },
      "source": [
        ""
      ],
      "execution_count": 0,
      "outputs": []
    },
    {
      "cell_type": "markdown",
      "metadata": {
        "id": "ViqNNpv_WP2p",
        "colab_type": "text"
      },
      "source": [
        "## 4. World Totals\n",
        "\n",
        "Let's add up all the rows of countries for each date to find the world totals. The sum function can add up all the data for a date (column) for all the countries (rows).\n",
        "\n"
      ]
    },
    {
      "cell_type": "code",
      "metadata": {
        "id": "ymNJCCjvWP2q",
        "colab_type": "code",
        "colab": {}
      },
      "source": [
        "total_confirmed = covid_confirmed.sum()\n",
        "total_confirmed\n",
        "\n"
      ],
      "execution_count": 0,
      "outputs": []
    },
    {
      "cell_type": "markdown",
      "metadata": {
        "id": "orC0nz2xolYw",
        "colab_type": "text"
      },
      "source": [
        "Let's only keep the rows after row 4 since it doesn't make sense to sum the province, country, lat, and long. (Remember rows start numbering at 0)."
      ]
    },
    {
      "cell_type": "code",
      "metadata": {
        "id": "3lsJfXttoiAn",
        "colab_type": "code",
        "colab": {}
      },
      "source": [
        "total_confirmed = total_confirmed[4:]\n",
        "total_confirmed"
      ],
      "execution_count": 0,
      "outputs": []
    },
    {
      "cell_type": "markdown",
      "metadata": {
        "id": "E2SfINQbkaCA",
        "colab_type": "text"
      },
      "source": [
        "We can pull out a particular column (date) with the array notation [] (or a . if the column name is just a single word). <font color=red>Change the date below to yesterday's date.</font> "
      ]
    },
    {
      "cell_type": "code",
      "metadata": {
        "colab_type": "code",
        "id": "cPypxciSks3t",
        "colab": {}
      },
      "source": [
        "total_confirmed['3/26/20']\n",
        "\n"
      ],
      "execution_count": 0,
      "outputs": []
    },
    {
      "cell_type": "markdown",
      "metadata": {
        "id": "mPkBxu3TgZrC",
        "colab_type": "text"
      },
      "source": [
        "<font color=red>Complete the code below to calculate the sum of the worldwide deaths and print it out for today's date using the dataframe covid_deaths. Hint: this is the same code you did above for covid_confirmed, but now for covid_deaths.</font>\n",
        "\n"
      ]
    },
    {
      "cell_type": "code",
      "metadata": {
        "id": "Uy4SAlm2WP2v",
        "colab_type": "code",
        "colab": {}
      },
      "source": [
        "total_deaths = \n",
        "\n"
      ],
      "execution_count": 0,
      "outputs": []
    },
    {
      "cell_type": "markdown",
      "metadata": {
        "colab_type": "text",
        "id": "kUD-XA1BgyMq"
      },
      "source": [
        "<font color=red>Do this again to complete the code below to calculate the sum of the worldwide recovered number and print it out for today's date using the dataframe covid_recovered.</font>"
      ]
    },
    {
      "cell_type": "code",
      "metadata": {
        "id": "AyFgfvZcWP2z",
        "colab_type": "code",
        "colab": {}
      },
      "source": [
        "total_recovered ="
      ],
      "execution_count": 0,
      "outputs": []
    },
    {
      "cell_type": "markdown",
      "metadata": {
        "id": "dNVFEUlDuZw-",
        "colab_type": "text"
      },
      "source": [
        "Let's calculate the worldwide mortality rate."
      ]
    },
    {
      "cell_type": "code",
      "metadata": {
        "id": "BvUKlhd0ufZu",
        "colab_type": "code",
        "colab": {}
      },
      "source": [
        "total_deaths/total_confirmed * 100\n"
      ],
      "execution_count": 0,
      "outputs": []
    },
    {
      "cell_type": "markdown",
      "metadata": {
        "id": "uUytDmIuvjqq",
        "colab_type": "text"
      },
      "source": [
        "<font color=red>Calculate the recovered rate.</font>"
      ]
    },
    {
      "cell_type": "code",
      "metadata": {
        "id": "V3L7IwEZvo8i",
        "colab_type": "code",
        "colab": {}
      },
      "source": [
        ""
      ],
      "execution_count": 0,
      "outputs": []
    },
    {
      "cell_type": "markdown",
      "metadata": {
        "id": "ICxHFG8iWP3R",
        "colab_type": "text"
      },
      "source": [
        "## 5. Line plots over dates \n",
        "\n",
        "Let's make a line plot showing the growth of cases from day to day using the matplotlib (plt) library. <br>\n",
        "<font color=red>Add another plt.plot command for the total_deaths and another for the total_recovered. Add 'Deaths' and 'Recovered' to the legend array too.</font>\n",
        "\n",
        "\n"
      ]
    },
    {
      "cell_type": "code",
      "metadata": {
        "id": "px4EsLxQWP3S",
        "colab_type": "code",
        "outputId": "7aab7ecf-2fe0-4c77-8639-2ead628df7dc",
        "colab": {
          "base_uri": "https://localhost:8080/",
          "height": 539
        }
      },
      "source": [
        "plt.rcParams[\"figure.figsize\"] = [15,8]\n",
        "\n",
        "plt.plot(total_confirmed)\n",
        "plt.legend(['Confirmed Cases'])\n",
        "plt.xlabel('Dates')\n",
        "plt.ylabel('Cases')\n",
        "plt.xticks(rotation=45)\n",
        "plt.show()"
      ],
      "execution_count": 0,
      "outputs": [
        {
          "output_type": "stream",
          "text": [
            "ERROR! Session/line number was not unique in database. History logging moved to new session 59\n"
          ],
          "name": "stdout"
        },
        {
          "output_type": "display_data",
          "data": {
            "image/png": "[encoded data removed]",
            "text/plain": [
              "<Figure size 1080x576 with 1 Axes>"
            ]
          },
          "metadata": {
            "tags": []
          }
        }
      ]
    },
    {
      "cell_type": "markdown",
      "metadata": {
        "id": "0r5WZfDzWP4w",
        "colab_type": "text"
      },
      "source": [
        "\n",
        "\n",
        "## 6. Geo-visualizations with Plotly Express\n"
      ]
    },
    {
      "cell_type": "markdown",
      "metadata": {
        "id": "1arEQyrryDkr",
        "colab_type": "text"
      },
      "source": [
        "The library plotly express (px) has maps like scatter_geo. <font color=red>Change yesterday's date for the latest data. Hover over the countries to see yesterday's data pop up</font>. "
      ]
    },
    {
      "cell_type": "code",
      "metadata": {
        "id": "eiF7Q2d3WP45",
        "colab_type": "code",
        "outputId": "f462cd0a-e7de-48c3-c57b-4b4b93ca72df",
        "colab": {
          "base_uri": "https://localhost:8080/",
          "height": 542
        }
      },
      "source": [
        "yesterday = \"3/26/20\"\n",
        "fig = px.scatter_geo(covid_confirmed,\n",
        "                     lat=\"Lat\", lon=\"Long\", color=yesterday,\n",
        "                     hover_name=\"Country\", size=yesterday,\n",
        "                     size_max=40, \n",
        "                     template='plotly', projection=\"natural earth\",\n",
        "                     title=\"COVID-19 worldwide confirmed cases\")\n",
        "\n",
        "fig.show()"
      ],
      "execution_count": 0,
      "outputs": [
        {
          "output_type": "display_data",
          "data": {
            "text/html": [
              "<html>\n",
              "<head><meta charset=\"utf-8\" /></head>\n",
              "<body>\n",
              "    <div>\n",
              "            <script src=\"https://cdnjs.cloudflare.com/ajax/libs/mathjax/2.7.5/MathJax.js?config=TeX-AMS-MML_SVG\"></script><script type=\"text/javascript\">if (window.MathJax) {MathJax.Hub.Config({SVG: {font: \"STIX-Web\"}});}</script>\n",
              "                <script type=\"text/javascript\">window.PlotlyConfig = {MathJaxConfig: 'local'};</script>\n",
              "        <script src=\"https://cdn.plot.ly/plotly-latest.min.js\"></script>    \n",
              "            <div id=\"773ba01f-2458-4a55-8557-b735e3aa6f2a\" class=\"plotly-graph-div\" style=\"height:525px; width:100%;\"></div>\n",
              "            <script type=\"text/javascript\">\n",
              "                \n",
              "                    window.PLOTLYENV=window.PLOTLYENV || {};\n",
              "                    \n",
              "                if (document.getElementById(\"773ba01f-2458-4a55-8557-b735e3aa6f2a\")) {\n",
              "                    Plotly.newPlot(\n",
              "                        '773ba01f-2458-4a55-8557-b735e3aa6f2a',\n",
              "                        [{\"geo\": \"geo\", \"hoverlabel\": {\"namelength\": 0}, \"hovertemplate\": \"<b>%{hovertext}</b><br><br>3/26/20=%{marker.color}<br>Lat=%{lat}<br>Long=%{lon}\", \"hovertext\": [\"Afghanistan\", \"Albania\", \"Algeria\", \"Andorra\", \"Angola\", \"Antigua and Barbuda\", \"Argentina\", \"Armenia\", \"Australia\", \"Australia\", \"Australia\", \"Australia\", \"Australia\", \"Australia\", \"Australia\", \"Australia\", \"Austria\", \"Azerbaijan\", \"Bahamas\", \"Bahrain\", \"Bangladesh\", \"Barbados\", \"Belarus\", \"Belgium\", \"Benin\", \"Bhutan\", \"Bolivia\", \"Bosnia and Herzegovina\", \"Brazil\", \"Brunei\", \"Bulgaria\", \"Burkina Faso\", \"Cabo Verde\", \"Cambodia\", \"Cameroon\", \"Canada\", \"Canada\", \"Canada\", \"Canada\", \"Canada\", \"Canada\", \"Canada\", \"Canada\", \"Canada\", \"Canada\", \"Canada\", \"Central African Republic\", \"Chad\", \"Chile\", \"China\", \"China\", \"China\", \"China\", \"China\", \"China\", \"China\", \"China\", \"China\", \"China\", \"China\", \"China\", \"China\", \"China\", \"China\", \"China\", \"China\", \"China\", \"China\", \"China\", \"China\", \"China\", \"China\", \"China\", \"China\", \"China\", \"China\", \"China\", \"China\", \"China\", \"China\", \"China\", \"China\", \"Colombia\", \"Congo (Brazzaville)\", \"Congo (Kinshasa)\", \"Costa Rica\", \"Cote d'Ivoire\", \"Croatia\", \"Diamond Princess\", \"Cuba\", \"Cyprus\", \"Czechia\", \"Denmark\", \"Denmark\", \"Denmark\", \"Djibouti\", \"Dominican Republic\", \"Ecuador\", \"Egypt\", \"El Salvador\", \"Equatorial Guinea\", \"Eritrea\", \"Estonia\", \"Eswatini\", \"Ethiopia\", \"Fiji\", \"Finland\", \"France\", \"France\", \"France\", \"France\", \"France\", \"France\", \"France\", \"France\", \"France\", \"France\", \"Gabon\", \"Gambia\", \"Georgia\", \"Germany\", \"Ghana\", \"Greece\", \"Guatemala\", \"Guinea\", \"Guyana\", \"Haiti\", \"Holy See\", \"Honduras\", \"Hungary\", \"Iceland\", \"India\", \"Indonesia\", \"Iran\", \"Iraq\", \"Ireland\", \"Israel\", \"Italy\", \"Jamaica\", \"Japan\", \"Jordan\", \"Kazakhstan\", \"Kenya\", \"Korea, South\", \"Kuwait\", \"Kyrgyzstan\", \"Latvia\", \"Lebanon\", \"Liberia\", \"Liechtenstein\", \"Lithuania\", \"Luxembourg\", \"Madagascar\", \"Malaysia\", \"Maldives\", \"Malta\", \"Mauritania\", \"Mauritius\", \"Mexico\", \"Moldova\", \"Monaco\", \"Mongolia\", \"Montenegro\", \"Morocco\", \"Namibia\", \"Nepal\", \"Netherlands\", \"Netherlands\", \"Netherlands\", \"Netherlands\", \"New Zealand\", \"Nicaragua\", \"Niger\", \"Nigeria\", \"North Macedonia\", \"Norway\", \"Oman\", \"Pakistan\", \"Panama\", \"Papua New Guinea\", \"Paraguay\", \"Peru\", \"Philippines\", \"Poland\", \"Portugal\", \"Qatar\", \"Romania\", \"Russia\", \"Rwanda\", \"Saint Lucia\", \"Saint Vincent and the Grenadines\", \"San Marino\", \"Saudi Arabia\", \"Senegal\", \"Serbia\", \"Seychelles\", \"Singapore\", \"Slovakia\", \"Slovenia\", \"Somalia\", \"South Africa\", \"Spain\", \"Sri Lanka\", \"Sudan\", \"Suriname\", \"Sweden\", \"Switzerland\", \"Taiwan*\", \"Tanzania\", \"Thailand\", \"Togo\", \"Trinidad and Tobago\", \"Tunisia\", \"Turkey\", \"Uganda\", \"Ukraine\", \"United Arab Emirates\", \"United Kingdom\", \"United Kingdom\", \"United Kingdom\", \"United Kingdom\", \"United Kingdom\", \"United Kingdom\", \"United Kingdom\", \"Uruguay\", \"US\", \"Uzbekistan\", \"Venezuela\", \"Vietnam\", \"Zambia\", \"Zimbabwe\", \"Canada\", \"Dominica\", \"Grenada\", \"Mozambique\", \"Syria\", \"Timor-Leste\", \"Belize\", \"Canada\", \"Laos\", \"Libya\", \"West Bank and Gaza\", \"Guinea-Bissau\", \"Mali\", \"Saint Kitts and Nevis\", \"Canada\", \"Canada\", \"Kosovo\", \"Burma\"], \"lat\": [33.0, 41.1533, 28.0339, 42.5063, -11.2027, 17.0608, -38.4161, 40.0691, -35.4735, -33.8688, -12.4634, -28.0167, -34.9285, -41.4545, -37.8136, -31.9505, 47.5162, 40.1431, 25.0343, 26.0275, 23.685, 13.1939, 53.7098, 50.8333, 9.3077, 27.5142, -16.2902, 43.9159, -14.235, 4.5353, 42.7339, 12.2383, 16.5388, 11.55, 3.8480000000000003, 53.9333, 49.2827, 37.6489, 53.7609, 46.5653, 53.1355, 44.681999999999995, 51.2538, 46.5107, 52.9399, 52.9399, 6.6111, 15.4542, -35.6751, 31.8257, 40.1824, 30.0572, 26.0789, 37.8099, 23.3417, 23.8298, 26.8154, 19.1959, 39.549, 47.861999999999995, 33.882, 22.3, 30.9756, 27.6104, 44.0935, 32.9711, 27.614, 43.6661, 41.2956, 22.1667, 37.2692, 35.7452, 35.1917, 36.3427, 31.201999999999998, 37.5777, 30.6171, 39.3054, 31.6927, 41.1129, 24.974, 29.1832, 4.5709, -4.0383, -4.0383, 9.7489, 7.54, 45.1, 0.0, 22.0, 35.1264, 49.8175, 61.8926, 71.7069, 56.2639, 11.8251, 18.7357, -1.8312, 26.0, 13.7942, 1.5, 15.1794, 58.5953, -26.5225, 9.145, -17.7134, 64.0, 3.9339, -17.6797, 16.25, -12.8275, -20.9043, -21.1351, 17.9, 18.0708, 14.6415, 46.2276, -0.8037, 13.4432, 42.3154, 51.0, 7.9465, 39.0742, 15.7835, 9.9456, 5.0, 18.9712, 41.9029, 15.2, 47.1625, 64.9631, 21.0, -0.7893, 32.0, 33.0, 53.1424, 31.0, 43.0, 18.1096, 36.0, 31.24, 48.0196, -0.0236, 36.0, 29.5, 41.2044, 56.8796, 33.8547, 6.4281, 47.14, 55.1694, 49.8153, -18.7669, 2.5, 3.2028, 35.9375, 21.0079, -20.2, 23.6345, 47.4116, 43.7333, 46.8625, 42.5, 31.7917, -22.9576, 28.1667, 12.5186, 12.1696, 18.0425, 52.1326, -40.9006, 12.8654, 17.6078, 9.082, 41.6086, 60.472, 21.0, 30.3753, 8.538, -6.315, -23.4425, -9.19, 13.0, 51.9194, 39.3999, 25.3548, 45.9432, 60.0, -1.9403, 13.9094, 12.9843, 43.9424, 24.0, 14.4974, 44.0165, -4.6796, 1.2833, 48.669, 46.1512, 5.1521, -30.5595, 40.0, 7.0, 12.8628, 3.9193, 63.0, 46.8182, 23.7, -6.369, 15.0, 8.6195, 10.6918, 34.0, 38.9637, 1.0, 48.3794, 24.0, 32.3078, 19.3133, 49.3723, 36.1408, 54.2361, 16.7425, 55.3781, -32.5228, 37.0902, 41.3775, 6.4238, 16.0, -15.4167, -20.0, 0.0, 15.415, 12.1165, -18.665695, 34.802075, -8.874217, 13.1939, 0.0, 19.856270000000002, 26.3351, 31.9522, 11.8037, 17.570692, 17.357822, 64.8255, 64.2823, 42.602636, 21.9162], \"legendgroup\": \"\", \"lon\": [65.0, 20.1683, 1.6596, 1.5218, 17.8739, -61.7964, -63.6167, 45.0382, 149.0124, 151.2093, 130.8456, 153.4, 138.6007, 145.9707, 144.9631, 115.8605, 14.5501, 47.5769, -77.3963, 50.55, 90.3563, -59.5432, 27.9534, 4.0, 2.3158, 90.4336, -63.5887, 17.6791, -51.9253, 114.7277, 25.4858, -1.5616, -23.0418, 104.9167, 11.5021, -116.5765, -123.1207, -122.6655, -98.8139, -66.4619, -57.6604, -63.7443, -85.3232, -63.4168, -73.5491, -106.4509, 20.9394, 18.7322, -71.543, 117.2264, 116.4142, 107.874, 117.9874, 101.0583, 113.4244, 108.7881, 106.8748, 109.7453, 116.1306, 127.7615, 113.61399999999999, 114.2, 112.2707, 111.7088, 113.9448, 119.455, 115.7221, 126.1923, 122.6085, 113.55, 106.1655, 95.9956, 108.8701, 118.1498, 121.4491, 112.2922, 102.7103, 117.323, 88.0924, 85.2401, 101.48700000000001, 120.0934, -74.2973, 21.7587, 21.7587, -83.7534, -5.5471, 15.2, 0.0, -80.0, 33.4299, 15.472999999999999, -6.9118, -42.6043, 9.5018, 42.5903, -70.1627, -78.1834, 30.0, -88.8965, 10.0, 39.7823, 25.0136, 31.4659, 40.4897, 178.065, 26.0, -53.1258, 149.4068, -61.5833, 45.1662, 165.618, 55.2471, -62.8333, -63.0501, -61.0242, 2.2137, 11.6094, -15.3101, 43.3569, 9.0, -1.0232, 21.8243, -90.2308, -9.6966, -58.75, -72.2852, 12.4534, -86.2419, 19.5033, -19.0208, 78.0, 113.9213, 53.0, 44.0, -7.6921, 35.0, 12.0, -77.2975, 138.0, 36.51, 66.9237, 37.9062, 128.0, 47.75, 74.7661, 24.6032, 35.8623, -9.4295, 9.55, 23.8813, 6.1296, 46.8691, 112.5, 73.2207, 14.3754, 10.9408, 57.5, -102.5528, 28.3699, 7.4167, 103.8467, 19.3, -7.0926, 18.4904, 84.25, -70.0358, -68.99, -63.0548, 5.2913, 174.886, -85.2072, 8.0817, 8.6753, 21.7453, 8.4689, 57.0, 69.3451, -80.7821, 143.9555, -58.4438, -75.0152, 122.0, 19.1451, -8.2245, 51.1839, 24.9668, 90.0, 29.8739, -60.9789, -61.2872, 12.4578, 45.0, -14.4524, 21.0059, 55.492, 103.8333, 19.699, 14.9955, 46.1996, 22.9375, -4.0, 81.0, 30.2176, -56.0278, 16.0, 8.2275, 121.0, 34.8888, 101.0, 0.8248, -61.2225, 9.0, 35.2433, 32.0, 31.1656, 54.0, -64.7505, -81.2546, -2.3644, -5.3536, -4.5481, -62.1874, -3.4360000000000004, -55.7658, -95.7129, 64.5853, -66.5897, 108.0, 28.2833, 30.0, 0.0, -61.371, -61.678999999999995, 35.529562, 38.99681500000001, 125.727539, -59.5432, 0.0, 102.495496, 17.228331, 35.2332, -15.1804, -3.996166000000001, -62.782998, -124.8457, -135.0, 20.902977, 95.956], \"marker\": {\"color\": [94, 174, 367, 224, 4, 7, 502, 290, 53, 1219, 12, 493, 235, 47, 520, 231, 6909, 122, 9, 458, 44, 18, 86, 6235, 6, 2, 43, 191, 2985, 114, 264, 152, 4, 96, 75, 486, 725, 13, 36, 33, 82, 73, 858, 5, 1632, 95, 3, 3, 1306, 990, 566, 578, 328, 136, 1448, 254, 146, 168, 319, 484, 1275, 453, 67801, 1018, 89, 640, 936, 95, 128, 31, 75, 18, 253, 771, 451, 135, 547, 151, 1, 76, 178, 1243, 491, 4, 51, 231, 96, 495, 712, 67, 146, 1925, 140, 6, 1877, 11, 488, 1403, 495, 13, 12, 6, 538, 6, 12, 5, 958, 28, 30, 73, 36, 14, 135, 3, 11, 66, 29155, 7, 3, 79, 43938, 132, 892, 25, 4, 5, 8, 4, 52, 261, 802, 727, 893, 29406, 382, 1819, 2693, 80589, 26, 1387, 212, 111, 31, 9241, 208, 44, 244, 368, 3, 56, 299, 1453, 23, 2031, 13, 134, 3, 81, 475, 177, 33, 11, 69, 275, 8, 3, 28, 6, 3, 7431, 283, 2, 10, 65, 201, 3369, 109, 1201, 558, 1, 41, 580, 707, 1221, 3544, 549, 1029, 840, 50, 3, 1, 208, 1012, 105, 384, 7, 683, 226, 562, 2, 927, 57786, 106, 3, 8, 2840, 11811, 252, 13, 1045, 23, 65, 197, 3629, 14, 196, 333, 15, 8, 66, 35, 25, 5, 11658, 217, 83836, 75, 107, 153, 16, 3, 0, 11, 7, 7, 5, 1, 2, 0, 6, 1, 84, 2, 4, 2, 1, 3, 71, 0], \"coloraxis\": \"coloraxis\", \"size\": [94, 174, 367, 224, 4, 7, 502, 290, 53, 1219, 12, 493, 235, 47, 520, 231, 6909, 122, 9, 458, 44, 18, 86, 6235, 6, 2, 43, 191, 2985, 114, 264, 152, 4, 96, 75, 486, 725, 13, 36, 33, 82, 73, 858, 5, 1632, 95, 3, 3, 1306, 990, 566, 578, 328, 136, 1448, 254, 146, 168, 319, 484, 1275, 453, 67801, 1018, 89, 640, 936, 95, 128, 31, 75, 18, 253, 771, 451, 135, 547, 151, 1, 76, 178, 1243, 491, 4, 51, 231, 96, 495, 712, 67, 146, 1925, 140, 6, 1877, 11, 488, 1403, 495, 13, 12, 6, 538, 6, 12, 5, 958, 28, 30, 73, 36, 14, 135, 3, 11, 66, 29155, 7, 3, 79, 43938, 132, 892, 25, 4, 5, 8, 4, 52, 261, 802, 727, 893, 29406, 382, 1819, 2693, 80589, 26, 1387, 212, 111, 31, 9241, 208, 44, 244, 368, 3, 56, 299, 1453, 23, 2031, 13, 134, 3, 81, 475, 177, 33, 11, 69, 275, 8, 3, 28, 6, 3, 7431, 283, 2, 10, 65, 201, 3369, 109, 1201, 558, 1, 41, 580, 707, 1221, 3544, 549, 1029, 840, 50, 3, 1, 208, 1012, 105, 384, 7, 683, 226, 562, 2, 927, 57786, 106, 3, 8, 2840, 11811, 252, 13, 1045, 23, 65, 197, 3629, 14, 196, 333, 15, 8, 66, 35, 25, 5, 11658, 217, 83836, 75, 107, 153, 16, 3, 0, 11, 7, 7, 5, 1, 2, 0, 6, 1, 84, 2, 4, 2, 1, 3, 71, 0], \"sizemode\": \"area\", \"sizeref\": 52.3975}, \"name\": \"\", \"showlegend\": false, \"type\": \"scattergeo\"}],\n",
              "                        {\"coloraxis\": {\"colorbar\": {\"title\": {\"text\": \"3/26/20\"}}, \"colorscale\": [[0.0, \"#0d0887\"], [0.1111111111111111, \"#46039f\"], [0.2222222222222222, \"#7201a8\"], [0.3333333333333333, \"#9c179e\"], [0.4444444444444444, \"#bd3786\"], [0.5555555555555556, \"#d8576b\"], [0.6666666666666666, \"#ed7953\"], [0.7777777777777778, \"#fb9f3a\"], [0.8888888888888888, \"#fdca26\"], [1.0, \"#f0f921\"]]}, \"geo\": {\"center\": {}, \"domain\": {\"x\": [0.0, 1.0], \"y\": [0.0, 1.0]}, \"projection\": {\"type\": \"natural earth\"}}, \"legend\": {\"itemsizing\": \"constant\", \"tracegroupgap\": 0}, \"template\": {\"data\": {\"bar\": [{\"error_x\": {\"color\": \"#2a3f5f\"}, \"error_y\": {\"color\": \"#2a3f5f\"}, \"marker\": {\"line\": {\"color\": \"#E5ECF6\", \"width\": 0.5}}, \"type\": \"bar\"}], \"barpolar\": [{\"marker\": {\"line\": {\"color\": \"#E5ECF6\", \"width\": 0.5}}, \"type\": \"barpolar\"}], \"carpet\": [{\"aaxis\": {\"endlinecolor\": \"#2a3f5f\", \"gridcolor\": \"white\", \"linecolor\": \"white\", \"minorgridcolor\": \"white\", \"startlinecolor\": \"#2a3f5f\"}, \"baxis\": {\"endlinecolor\": \"#2a3f5f\", \"gridcolor\": \"white\", \"linecolor\": \"white\", \"minorgridcolor\": \"white\", \"startlinecolor\": \"#2a3f5f\"}, \"type\": \"carpet\"}], \"choropleth\": [{\"colorbar\": {\"outlinewidth\": 0, \"ticks\": \"\"}, \"type\": \"choropleth\"}], \"contour\": [{\"colorbar\": {\"outlinewidth\": 0, \"ticks\": \"\"}, \"colorscale\": [[0.0, \"#0d0887\"], [0.1111111111111111, \"#46039f\"], [0.2222222222222222, \"#7201a8\"], [0.3333333333333333, \"#9c179e\"], [0.4444444444444444, \"#bd3786\"], [0.5555555555555556, \"#d8576b\"], [0.6666666666666666, \"#ed7953\"], [0.7777777777777778, \"#fb9f3a\"], [0.8888888888888888, \"#fdca26\"], [1.0, \"#f0f921\"]], \"type\": \"contour\"}], \"contourcarpet\": [{\"colorbar\": {\"outlinewidth\": 0, \"ticks\": \"\"}, \"type\": \"contourcarpet\"}], \"heatmap\": [{\"colorbar\": {\"outlinewidth\": 0, \"ticks\": \"\"}, \"colorscale\": [[0.0, \"#0d0887\"], [0.1111111111111111, \"#46039f\"], [0.2222222222222222, \"#7201a8\"], [0.3333333333333333, \"#9c179e\"], [0.4444444444444444, \"#bd3786\"], [0.5555555555555556, \"#d8576b\"], [0.6666666666666666, \"#ed7953\"], [0.7777777777777778, \"#fb9f3a\"], [0.8888888888888888, \"#fdca26\"], [1.0, \"#f0f921\"]], \"type\": \"heatmap\"}], \"heatmapgl\": [{\"colorbar\": {\"outlinewidth\": 0, \"ticks\": \"\"}, \"colorscale\": [[0.0, \"#0d0887\"], [0.1111111111111111, \"#46039f\"], [0.2222222222222222, \"#7201a8\"], [0.3333333333333333, \"#9c179e\"], [0.4444444444444444, \"#bd3786\"], [0.5555555555555556, \"#d8576b\"], [0.6666666666666666, \"#ed7953\"], [0.7777777777777778, \"#fb9f3a\"], [0.8888888888888888, \"#fdca26\"], [1.0, \"#f0f921\"]], \"type\": \"heatmapgl\"}], \"histogram\": [{\"marker\": {\"colorbar\": {\"outlinewidth\": 0, \"ticks\": \"\"}}, \"type\": \"histogram\"}], \"histogram2d\": [{\"colorbar\": {\"outlinewidth\": 0, \"ticks\": \"\"}, \"colorscale\": [[0.0, \"#0d0887\"], [0.1111111111111111, \"#46039f\"], [0.2222222222222222, \"#7201a8\"], [0.3333333333333333, \"#9c179e\"], [0.4444444444444444, \"#bd3786\"], [0.5555555555555556, \"#d8576b\"], [0.6666666666666666, \"#ed7953\"], [0.7777777777777778, \"#fb9f3a\"], [0.8888888888888888, \"#fdca26\"], [1.0, \"#f0f921\"]], \"type\": \"histogram2d\"}], \"histogram2dcontour\": [{\"colorbar\": {\"outlinewidth\": 0, \"ticks\": \"\"}, \"colorscale\": [[0.0, \"#0d0887\"], [0.1111111111111111, \"#46039f\"], [0.2222222222222222, \"#7201a8\"], [0.3333333333333333, \"#9c179e\"], [0.4444444444444444, \"#bd3786\"], [0.5555555555555556, \"#d8576b\"], [0.6666666666666666, \"#ed7953\"], [0.7777777777777778, \"#fb9f3a\"], [0.8888888888888888, \"#fdca26\"], [1.0, \"#f0f921\"]], \"type\": \"histogram2dcontour\"}], \"mesh3d\": [{\"colorbar\": {\"outlinewidth\": 0, \"ticks\": \"\"}, \"type\": \"mesh3d\"}], \"parcoords\": [{\"line\": {\"colorbar\": {\"outlinewidth\": 0, \"ticks\": \"\"}}, \"type\": \"parcoords\"}], \"pie\": [{\"automargin\": true, \"type\": \"pie\"}], \"scatter\": [{\"marker\": {\"colorbar\": {\"outlinewidth\": 0, \"ticks\": \"\"}}, \"type\": \"scatter\"}], \"scatter3d\": [{\"line\": {\"colorbar\": {\"outlinewidth\": 0, \"ticks\": \"\"}}, \"marker\": {\"colorbar\": {\"outlinewidth\": 0, \"ticks\": \"\"}}, \"type\": \"scatter3d\"}], \"scattercarpet\": [{\"marker\": {\"colorbar\": {\"outlinewidth\": 0, \"ticks\": \"\"}}, \"type\": \"scattercarpet\"}], \"scattergeo\": [{\"marker\": {\"colorbar\": {\"outlinewidth\": 0, \"ticks\": \"\"}}, \"type\": \"scattergeo\"}], \"scattergl\": [{\"marker\": {\"colorbar\": {\"outlinewidth\": 0, \"ticks\": \"\"}}, \"type\": \"scattergl\"}], \"scattermapbox\": [{\"marker\": {\"colorbar\": {\"outlinewidth\": 0, \"ticks\": \"\"}}, \"type\": \"scattermapbox\"}], \"scatterpolar\": [{\"marker\": {\"colorbar\": {\"outlinewidth\": 0, \"ticks\": \"\"}}, \"type\": \"scatterpolar\"}], \"scatterpolargl\": [{\"marker\": {\"colorbar\": {\"outlinewidth\": 0, \"ticks\": \"\"}}, \"type\": \"scatterpolargl\"}], \"scatterternary\": [{\"marker\": {\"colorbar\": {\"outlinewidth\": 0, \"ticks\": \"\"}}, \"type\": \"scatterternary\"}], \"surface\": [{\"colorbar\": {\"outlinewidth\": 0, \"ticks\": \"\"}, \"colorscale\": [[0.0, \"#0d0887\"], [0.1111111111111111, \"#46039f\"], [0.2222222222222222, \"#7201a8\"], [0.3333333333333333, \"#9c179e\"], [0.4444444444444444, \"#bd3786\"], [0.5555555555555556, \"#d8576b\"], [0.6666666666666666, \"#ed7953\"], [0.7777777777777778, \"#fb9f3a\"], [0.8888888888888888, \"#fdca26\"], [1.0, \"#f0f921\"]], \"type\": \"surface\"}], \"table\": [{\"cells\": {\"fill\": {\"color\": \"#EBF0F8\"}, \"line\": {\"color\": \"white\"}}, \"header\": {\"fill\": {\"color\": \"#C8D4E3\"}, \"line\": {\"color\": \"white\"}}, \"type\": \"table\"}]}, \"layout\": {\"annotationdefaults\": {\"arrowcolor\": \"#2a3f5f\", \"arrowhead\": 0, \"arrowwidth\": 1}, \"coloraxis\": {\"colorbar\": {\"outlinewidth\": 0, \"ticks\": \"\"}}, \"colorscale\": {\"diverging\": [[0, \"#8e0152\"], [0.1, \"#c51b7d\"], [0.2, \"#de77ae\"], [0.3, \"#f1b6da\"], [0.4, \"#fde0ef\"], [0.5, \"#f7f7f7\"], [0.6, \"#e6f5d0\"], [0.7, \"#b8e186\"], [0.8, \"#7fbc41\"], [0.9, \"#4d9221\"], [1, \"#276419\"]], \"sequential\": [[0.0, \"#0d0887\"], [0.1111111111111111, \"#46039f\"], [0.2222222222222222, \"#7201a8\"], [0.3333333333333333, \"#9c179e\"], [0.4444444444444444, \"#bd3786\"], [0.5555555555555556, \"#d8576b\"], [0.6666666666666666, \"#ed7953\"], [0.7777777777777778, \"#fb9f3a\"], [0.8888888888888888, \"#fdca26\"], [1.0, \"#f0f921\"]], \"sequentialminus\": [[0.0, \"#0d0887\"], [0.1111111111111111, \"#46039f\"], [0.2222222222222222, \"#7201a8\"], [0.3333333333333333, \"#9c179e\"], [0.4444444444444444, \"#bd3786\"], [0.5555555555555556, \"#d8576b\"], [0.6666666666666666, \"#ed7953\"], [0.7777777777777778, \"#fb9f3a\"], [0.8888888888888888, \"#fdca26\"], [1.0, \"#f0f921\"]]}, \"colorway\": [\"#636efa\", \"#EF553B\", \"#00cc96\", \"#ab63fa\", \"#FFA15A\", \"#19d3f3\", \"#FF6692\", \"#B6E880\", \"#FF97FF\", \"#FECB52\"], \"font\": {\"color\": \"#2a3f5f\"}, \"geo\": {\"bgcolor\": \"white\", \"lakecolor\": \"white\", \"landcolor\": \"#E5ECF6\", \"showlakes\": true, \"showland\": true, \"subunitcolor\": \"white\"}, \"hoverlabel\": {\"align\": \"left\"}, \"hovermode\": \"closest\", \"mapbox\": {\"style\": \"light\"}, \"paper_bgcolor\": \"white\", \"plot_bgcolor\": \"#E5ECF6\", \"polar\": {\"angularaxis\": {\"gridcolor\": \"white\", \"linecolor\": \"white\", \"ticks\": \"\"}, \"bgcolor\": \"#E5ECF6\", \"radialaxis\": {\"gridcolor\": \"white\", \"linecolor\": \"white\", \"ticks\": \"\"}}, \"scene\": {\"xaxis\": {\"backgroundcolor\": \"#E5ECF6\", \"gridcolor\": \"white\", \"gridwidth\": 2, \"linecolor\": \"white\", \"showbackground\": true, \"ticks\": \"\", \"zerolinecolor\": \"white\"}, \"yaxis\": {\"backgroundcolor\": \"#E5ECF6\", \"gridcolor\": \"white\", \"gridwidth\": 2, \"linecolor\": \"white\", \"showbackground\": true, \"ticks\": \"\", \"zerolinecolor\": \"white\"}, \"zaxis\": {\"backgroundcolor\": \"#E5ECF6\", \"gridcolor\": \"white\", \"gridwidth\": 2, \"linecolor\": \"white\", \"showbackground\": true, \"ticks\": \"\", \"zerolinecolor\": \"white\"}}, \"shapedefaults\": {\"line\": {\"color\": \"#2a3f5f\"}}, \"ternary\": {\"aaxis\": {\"gridcolor\": \"white\", \"linecolor\": \"white\", \"ticks\": \"\"}, \"baxis\": {\"gridcolor\": \"white\", \"linecolor\": \"white\", \"ticks\": \"\"}, \"bgcolor\": \"#E5ECF6\", \"caxis\": {\"gridcolor\": \"white\", \"linecolor\": \"white\", \"ticks\": \"\"}}, \"title\": {\"x\": 0.05}, \"xaxis\": {\"automargin\": true, \"gridcolor\": \"white\", \"linecolor\": \"white\", \"ticks\": \"\", \"title\": {\"standoff\": 15}, \"zerolinecolor\": \"white\", \"zerolinewidth\": 2}, \"yaxis\": {\"automargin\": true, \"gridcolor\": \"white\", \"linecolor\": \"white\", \"ticks\": \"\", \"title\": {\"standoff\": 15}, \"zerolinecolor\": \"white\", \"zerolinewidth\": 2}}}, \"title\": {\"text\": \"COVID-19 worldwide confirmed cases\"}},\n",
              "                        {\"responsive\": true}\n",
              "                    ).then(function(){\n",
              "                            \n",
              "var gd = document.getElementById('773ba01f-2458-4a55-8557-b735e3aa6f2a');\n",
              "var x = new MutationObserver(function (mutations, observer) {{\n",
              "        var display = window.getComputedStyle(gd).display;\n",
              "        if (!display || display === 'none') {{\n",
              "            console.log([gd, 'removed!']);\n",
              "            Plotly.purge(gd);\n",
              "            observer.disconnect();\n",
              "        }}\n",
              "}});\n",
              "\n",
              "// Listen for the removal of the full notebook cells\n",
              "var notebookContainer = gd.closest('#notebook-container');\n",
              "if (notebookContainer) {{\n",
              "    x.observe(notebookContainer, {childList: true});\n",
              "}}\n",
              "\n",
              "// Listen for the clearing of the current output cell\n",
              "var outputEl = gd.closest('.output');\n",
              "if (outputEl) {{\n",
              "    x.observe(outputEl, {childList: true});\n",
              "}}\n",
              "\n",
              "                        })\n",
              "                };\n",
              "                \n",
              "            </script>\n",
              "        </div>\n",
              "</body>\n",
              "</html>"
            ]
          },
          "metadata": {
            "tags": []
          }
        }
      ]
    },
    {
      "cell_type": "markdown",
      "metadata": {
        "id": "bW-niqy6yv1y",
        "colab_type": "text"
      },
      "source": [
        "<font color=red>See if you can generate a similar map for covid_deaths.</font>"
      ]
    },
    {
      "cell_type": "code",
      "metadata": {
        "id": "NXUPRfvv2Aao",
        "colab_type": "code",
        "colab": {}
      },
      "source": [
        ""
      ],
      "execution_count": 0,
      "outputs": []
    },
    {
      "cell_type": "markdown",
      "metadata": {
        "id": "s3EvYBIU2BDv",
        "colab_type": "text"
      },
      "source": [
        "Learn more by trying some of the getting started Python Pandas tutorials here: https://pandas.pydata.org/docs/getting_started/intro_tutorials/01_table_oriented.html"
      ]
    }
  ]
}